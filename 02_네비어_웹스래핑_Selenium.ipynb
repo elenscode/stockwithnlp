{
 "cells": [
  {
   "cell_type": "markdown",
   "id": "f08e6b96",
   "metadata": {},
   "source": [
    "### 목차\n",
    "[01. URLPattenr](#01.-URL-Pattern)\n",
    "\n",
    "[02. Class 설계](#02.-Class-설계)\n",
    "___"
   ]
  },
  {
   "cell_type": "markdown",
   "id": "d2d8a810",
   "metadata": {},
   "source": [
    "```python\n",
    "## 잠시 async 는 접어두고 오래 걸리지만 정공법으로 requests 이용\n",
    "\n",
    "import aiohttp\n",
    "import asyncio\n",
    "import time\n",
    "\n",
    "async def fetch(session, url):\n",
    "    async with session.get(url) as response:\n",
    "        return await response.text()\n",
    "\n",
    "\n",
    "async def main():\n",
    "    async with aiohttp.ClientSession() as session:\n",
    "\n",
    "        url = 'https://finance.naver.com/item/sise_day.nhn?code={code}&page={page}'\n",
    "        futures = [asyncio.ensure_future(fetch(session, url.format(code='005930', page=i)))\n",
    "                   for i in range(1, 50)]\n",
    "        res = await asyncio.gather(*futures)\n",
    "        return res\n",
    "```"
   ]
  },
  {
   "cell_type": "markdown",
   "id": "12f88cd9",
   "metadata": {},
   "source": [
    "### 01. URL Pattern\n",
    "> https://finance.naver.com/news/news_list.naver?date={20220418}&page={1}"
   ]
  },
  {
   "cell_type": "markdown",
   "id": "5d09651d",
   "metadata": {},
   "source": [
    "### 02. Class 설계\n",
    "\n"
   ]
  },
  {
   "cell_type": "code",
   "execution_count": null,
   "id": "8cd2798b",
   "metadata": {},
   "outputs": [],
   "source": []
  }
 ],
 "metadata": {
  "kernelspec": {
   "display_name": "Python 3 (ipykernel)",
   "language": "python",
   "name": "python3"
  },
  "language_info": {
   "codemirror_mode": {
    "name": "ipython",
    "version": 3
   },
   "file_extension": ".py",
   "mimetype": "text/x-python",
   "name": "python",
   "nbconvert_exporter": "python",
   "pygments_lexer": "ipython3",
   "version": "3.8.11"
  }
 },
 "nbformat": 4,
 "nbformat_minor": 5
}
